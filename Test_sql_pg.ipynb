{
 "cells": [
  {
   "cell_type": "code",
   "execution_count": 12,
   "id": "4bcb0b1e",
   "metadata": {},
   "outputs": [],
   "source": [
    "from incorta_data_apis import *\n",
    "from pyspark import SparkContext"
   ]
  },
  {
   "cell_type": "code",
   "execution_count": 13,
   "id": "09f9340a",
   "metadata": {},
   "outputs": [
    {
     "name": "stdin",
     "output_type": "stream",
     "text": [
      "Tenant:  ebsmldemo\n",
      "Username:  admin\n",
      "API Key:  ····································\n"
     ]
    },
    {
     "name": "stdout",
     "output_type": "stream",
     "text": [
      "Using spark.home: /home/incorta/IncortaAnalytics/IncortaNode/spark\n",
      "Spark Context is available as 'sc'\n",
      "Spark Session is available as 'spark'\n"
     ]
    }
   ],
   "source": [
    "incorta=IncortaAPI('/home/incorta/IncortaAnalytics/IncortaNode/bin/data_apis/python/data-api.conf')\n",
    "\n",
    "#4c7fe62a-fca7-4a5c-a93e-6b4faab6d131"
   ]
  },
  {
   "cell_type": "code",
   "execution_count": 10,
   "id": "ac62088c",
   "metadata": {},
   "outputs": [],
   "source": [
    "df = incorta.sql_pg(\"SELECT daysBetween(START_DATE, current_date) DAYS from EBS_CAL_COMMON.GL_PERIODS\")"
   ]
  },
  {
   "cell_type": "code",
   "execution_count": 11,
   "id": "10746c85",
   "metadata": {},
   "outputs": [
    {
     "name": "stdout",
     "output_type": "stream",
     "text": [
      "+-----+\n",
      "| DAYS|\n",
      "+-----+\n",
      "|-9260|\n",
      "|-9230|\n",
      "|-9229|\n",
      "|-9198|\n",
      "|-9169|\n",
      "|-9138|\n",
      "|-9108|\n",
      "|-9077|\n",
      "|-9047|\n",
      "|-9016|\n",
      "|-8985|\n",
      "|-8955|\n",
      "|-8924|\n",
      "|-8894|\n",
      "|-8863|\n",
      "|-8832|\n",
      "|-8804|\n",
      "|-8773|\n",
      "|-8743|\n",
      "|-8712|\n",
      "+-----+\n",
      "only showing top 20 rows\n",
      "\n"
     ]
    }
   ],
   "source": [
    "df.show()"
   ]
  },
  {
   "cell_type": "code",
   "execution_count": 14,
   "id": "9e5ac88d",
   "metadata": {},
   "outputs": [],
   "source": [
    "df = incorta.sql_pg(\"SELECT EBS_AR.AR_PAYMENT_SCHEDULES_ALL.DUE_DATE FROM EBS_AR.AR_PAYMENT_SCHEDULES_ALL LIMIT 10\")"
   ]
  },
  {
   "cell_type": "code",
   "execution_count": 15,
   "id": "977e6bd9",
   "metadata": {},
   "outputs": [
    {
     "name": "stdout",
     "output_type": "stream",
     "text": [
      "+----------+\n",
      "|  DUE_DATE|\n",
      "+----------+\n",
      "|2009-03-13|\n",
      "|2009-03-18|\n",
      "|2009-05-19|\n",
      "|2009-05-18|\n",
      "|2009-05-20|\n",
      "|2009-05-30|\n",
      "|2009-03-31|\n",
      "|2009-04-01|\n",
      "|2009-05-13|\n",
      "|2009-05-11|\n",
      "+----------+\n",
      "\n"
     ]
    }
   ],
   "source": [
    "df.show()"
   ]
  },
  {
   "cell_type": "code",
   "execution_count": null,
   "id": "04fd9e13",
   "metadata": {},
   "outputs": [],
   "source": []
  }
 ],
 "metadata": {
  "kernelspec": {
   "display_name": "Python 3",
   "language": "python",
   "name": "python3"
  },
  "language_info": {
   "codemirror_mode": {
    "name": "ipython",
    "version": 3
   },
   "file_extension": ".py",
   "mimetype": "text/x-python",
   "name": "python",
   "nbconvert_exporter": "python",
   "pygments_lexer": "ipython3",
   "version": "3.6.8"
  }
 },
 "nbformat": 4,
 "nbformat_minor": 5
}
