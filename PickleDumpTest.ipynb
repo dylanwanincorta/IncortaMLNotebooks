{
 "cells": [
  {
   "cell_type": "code",
   "execution_count": 6,
   "id": "561dbceb",
   "metadata": {},
   "outputs": [],
   "source": [
    "# pickling.py\n",
    "import pickle\n",
    "\n",
    "class example_class:\n",
    "    a_number = 35\n",
    "    a_string = \"hey\"\n",
    "    a_list = [1, 2, 3]\n",
    "    a_dict = {\"first\": \"a\", \"second\": 2, \"third\": [1, 2, 3]}\n",
    "    a_tuple = (22, 23)\n",
    "\n",
    "my_object = example_class()\n",
    "\n",
    "my_object.a_string = \"Bye\"\n",
    "\n",
    "save_path = \"/home/incorta/IncortaAnalytics/Tenants/ebsmldemo/data/ml_model/my1st.pckl\"\n",
    "with open(save_path, 'wb') as fout:\n",
    "       pickle.dump(my_object, fout)\n",
    "\n"
   ]
  },
  {
   "cell_type": "code",
   "execution_count": 7,
   "id": "3126cc88",
   "metadata": {},
   "outputs": [
    {
     "data": {
      "text/plain": [
       "<__main__.example_class at 0x7f7b74f5db38>"
      ]
     },
     "execution_count": 7,
     "metadata": {},
     "output_type": "execute_result"
    }
   ],
   "source": [
    "my_object\n"
   ]
  },
  {
   "cell_type": "code",
   "execution_count": 8,
   "id": "21fbe870",
   "metadata": {},
   "outputs": [
    {
     "data": {
      "text/plain": [
       "'Bye'"
      ]
     },
     "execution_count": 8,
     "metadata": {},
     "output_type": "execute_result"
    }
   ],
   "source": [
    "my_object.a_string"
   ]
  },
  {
   "cell_type": "code",
   "execution_count": null,
   "id": "b00e83fd",
   "metadata": {},
   "outputs": [],
   "source": []
  }
 ],
 "metadata": {
  "kernelspec": {
   "display_name": "Python 3",
   "language": "python",
   "name": "python3"
  },
  "language_info": {
   "codemirror_mode": {
    "name": "ipython",
    "version": 3
   },
   "file_extension": ".py",
   "mimetype": "text/x-python",
   "name": "python",
   "nbconvert_exporter": "python",
   "pygments_lexer": "ipython3",
   "version": "3.6.8"
  }
 },
 "nbformat": 4,
 "nbformat_minor": 5
}
